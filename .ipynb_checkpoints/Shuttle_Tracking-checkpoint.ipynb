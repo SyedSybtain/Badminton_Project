{
 "cells": [
  {
   "cell_type": "code",
   "execution_count": 6,
   "id": "5b9b393b-e1e2-481e-b388-f5421987b061",
   "metadata": {},
   "outputs": [
    {
     "name": "stdout",
     "output_type": "stream",
     "text": [
      "Processed video saved as 'shuttlecock_tracking.mp4'.\n"
     ]
    }
   ],
   "source": [
    "import cv2\n",
    "import numpy as np\n",
    "\n",
    "# Define court rectangle\n",
    "min_x, min_y = 100,10    # Example top-left corner of the court in pixels\n",
    "max_x, max_y = 500,100   # Example bottom-right corner in pixels\n",
    "\n",
    "# Load the video\n",
    "cap = cv2.VideoCapture('final.mp4')\n",
    "\n",
    "# Simple background subtraction for tracking\n",
    "fgbg = cv2.createBackgroundSubtractorMOG2(history=200, varThreshold=70, detectShadows=False)\n",
    "flag = False\n",
    "# Initialize video writer to save the output\n",
    "fourcc = cv2.VideoWriter_fourcc(*'mp4v')\n",
    "out = cv2.VideoWriter('shuttlecock_tracking.mp4', fourcc, cap.get(cv2.CAP_PROP_FPS),\n",
    "                      (int(cap.get(cv2.CAP_PROP_FRAME_WIDTH)), int(cap.get(cv2.CAP_PROP_FRAME_HEIGHT))))\n",
    "mask_out = cv2.VideoWriter('shuttlecock_mask_tracking.mp4', fourcc, cap.get(cv2.CAP_PROP_FPS),\n",
    "                      (int(cap.get(cv2.CAP_PROP_FRAME_WIDTH)), int(cap.get(cv2.CAP_PROP_FRAME_HEIGHT))),isColor = False)\n",
    "\n",
    "while cap.isOpened():\n",
    "    flag = False\n",
    "    ret, frame = cap.read()\n",
    "    if not ret:\n",
    "        break\n",
    "\n",
    "    blurred_frame = cv2.GaussianBlur(frame, (7, 7), 0)\n",
    "    gray_frame = cv2.cvtColor(blurred_frame, cv2.COLOR_BGR2GRAY)\n",
    "    fgmask = fgbg.apply(gray_frame[min_y:max_y,min_x:max_x])\n",
    "    fgmask[fgmask == 127] = 0\n",
    "    _, fgmask = cv2.threshold(fgmask, 100,255,cv2.THRESH_BINARY)\n",
    "    kernel = cv2.getStructuringElement(cv2.MORPH_ELLIPSE, (5, 5))\n",
    "    fgmask = cv2.morphologyEx(fgmask, cv2.MORPH_OPEN, kernel)\n",
    "    contours, _ = cv2.findContours(fgmask, cv2.RETR_TREE, cv2.CHAIN_APPROX_SIMPLE)\n",
    "\n",
    "    for cnt in contours:\n",
    "        if cv2.contourArea(cnt)> 10:\n",
    "            x, y, w, h = cv2.boundingRect(cnt)\n",
    "            center = (x + w // 2, y + h // 2)\n",
    "            if (0 < x and 620 > x) and (0 < y and 99 > y):\n",
    "                cv2.putText(frame, \"In Bound\", ((min_x+max_x)//2,(min_y+max_y)//2), cv2.FONT_HERSHEY_SIMPLEX, 0.5, (0,255,0), 2)\n",
    "                cv2.rectangle(frame, (min_x,min_y), (max_x,max_y), (0,255,0), 2)\n",
    "                flag = True\n",
    "    if flag:\n",
    "        out.write(frame)\n",
    "        continue\n",
    "        \n",
    "    cv2.putText(frame, \"Out of Bound\", ((min_x+max_x)//2,(min_y+max_y)//2), cv2.FONT_HERSHEY_SIMPLEX, 0.5, (0,0,255), 2)\n",
    "    cv2.rectangle(frame, (min_x,min_y), (max_x,max_y), (0,0,255), 2)\n",
    "    \n",
    "    out.write(frame)\n",
    "\n",
    "cap.release()\n",
    "out.release()\n",
    "print(\"Processed video saved as 'shuttlecock_tracking.mp4'.\")"
   ]
  },
  {
   "cell_type": "code",
   "execution_count": null,
   "id": "2833b094-974c-4eeb-ad7c-9149bce7cfd9",
   "metadata": {},
   "outputs": [],
   "source": []
  }
 ],
 "metadata": {
  "kernelspec": {
   "display_name": "Python 3 (ipykernel)",
   "language": "python",
   "name": "python3"
  },
  "language_info": {
   "codemirror_mode": {
    "name": "ipython",
    "version": 3
   },
   "file_extension": ".py",
   "mimetype": "text/x-python",
   "name": "python",
   "nbconvert_exporter": "python",
   "pygments_lexer": "ipython3",
   "version": "3.10.10"
  }
 },
 "nbformat": 4,
 "nbformat_minor": 5
}
